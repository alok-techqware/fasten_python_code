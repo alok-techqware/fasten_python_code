{
  "nbformat": 4,
  "nbformat_minor": 0,
  "metadata": {
    "colab": {
      "provenance": []
    },
    "kernelspec": {
      "name": "python3",
      "display_name": "Python 3"
    },
    "language_info": {
      "name": "python"
    }
  },
  "cells": [
    {
      "cell_type": "markdown",
      "source": [
        "## ***3. Reduce***\n",
        "    > Python offers a function called reduce() that allows you to reduce a list in a more concise way. this function performs functional computation by taking a function and iterable like a list, tuple, series, etc as arguments and returns a single value as output.\n",
        "\n",
        "    > Syntax:\n",
        "        > reduce(function, iterable)\n",
        "\n",
        "    > The reduce() function applies the function of two arguments cumulatively to the items of the list, from left to right to reduce the list into a single value.\n",
        "    > Unlike the map() and filter() functions, the reduce() is not a built-in function in Python. The reduce() function belongs to the functools module.\n",
        "    > Steps of how to reduce function work in python\n",
        "        - The function passed as an argument is applied to the first two elements of the iterable.\n",
        "    > After this, the function is applied to the previously generated result and the next element in the iterable.\n",
        "        - This process continues until all of the iterable items are iterated.\n",
        "        - A single value is returned as a result of applying the reduce function on the iterable.\n",
        "    > Let’s understand the steps with an illustration:\n",
        "        > If we have a list of numbers [1,2,3,4,5] that is reduced by applying the addition function.\n",
        "        > As a final output will be the sum of all the numbers of the list 15.\n",
        "\n"
      ],
      "metadata": {
        "id": "b2b2wjg3luj_"
      }
    },
    {
      "cell_type": "code",
      "execution_count": 1,
      "metadata": {
        "colab": {
          "base_uri": "https://localhost:8080/"
        },
        "id": "btfUjzHXltxK",
        "outputId": "60f03029-09ab-4163-b37c-a33280f01858"
      },
      "outputs": [
        {
          "output_type": "stream",
          "name": "stdout",
          "text": [
            "499999500000\n",
            "0.403082 secs 0.144989 MByte\n"
          ]
        }
      ],
      "source": [
        "# Using for loop\n",
        "import math\n",
        "import time\n",
        "import resource\n",
        "import sys\n",
        "\n",
        "time_start = time.perf_counter()\n",
        "\n",
        "sys.set_int_max_str_digits(0)\n",
        "\n",
        "def addition(x,y):\n",
        "    return x + y\n",
        "\n",
        "test_list = list(range(1, 1000000))\n",
        "\n",
        "result = 0\n",
        "for i in range(len(test_list)) :\n",
        "      result = addition(result, test_list[i])\n",
        "print(result)\n",
        "\n",
        "time_elapsed = (time.perf_counter() - time_start)\n",
        "memMb=resource.getrusage(resource.RUSAGE_SELF).ru_maxrss/1024.0/1024.0\n",
        "\n",
        "print (\"%f secs %f MByte\" % (time_elapsed,memMb))\n"
      ]
    },
    {
      "cell_type": "code",
      "source": [
        "# Using while loop\n",
        "\n",
        "import math\n",
        "import time\n",
        "import resource\n",
        "import sys\n",
        "\n",
        "time_start = time.perf_counter()\n",
        "\n",
        "sys.set_int_max_str_digits(0)\n",
        "\n",
        "def addition(x,y):\n",
        "    return x + y\n",
        "\n",
        "test_list = list(range(1, 1000000))\n",
        "\n",
        "result = 0\n",
        "i=0\n",
        "while i < len(test_list) :\n",
        "      result = addition(result, test_list[i])\n",
        "      i = i + 1\n",
        "print(result)\n",
        "\n",
        "time_elapsed = (time.perf_counter() - time_start)\n",
        "memMb=resource.getrusage(resource.RUSAGE_SELF).ru_maxrss/1024.0/1024.0\n",
        "print (\"%f secs %f MByte\" % (time_elapsed,memMb))\n"
      ],
      "metadata": {
        "colab": {
          "base_uri": "https://localhost:8080/"
        },
        "id": "g2zo5cpAmnIF",
        "outputId": "06c2a9ef-3ee1-461a-f138-a9c5f17bdd37"
      },
      "execution_count": 3,
      "outputs": [
        {
          "output_type": "stream",
          "name": "stdout",
          "text": [
            "499999500000\n",
            "0.407086 secs 0.163078 MByte\n"
          ]
        }
      ]
    },
    {
      "cell_type": "code",
      "source": [
        "# Using Reduce\n",
        "\n",
        "from functools import reduce\n",
        "import time\n",
        "import resource\n",
        "import sys\n",
        "\n",
        "time_start = time.perf_counter()\n",
        "\n",
        "sys.set_int_max_str_digits(0)\n",
        "\n",
        "def addition(x,y):\n",
        "    return x + y\n",
        "\n",
        "test_list = list(range(1, 1000000))\n",
        "\n",
        "result = reduce(addition, test_list)\n",
        "print(result)\n",
        "\n",
        "time_elapsed = (time.perf_counter() - time_start)\n",
        "memMb=resource.getrusage(resource.RUSAGE_SELF).ru_maxrss/1024.0/1024.0\n",
        "\n",
        "print (\"%f secs %f MByte\" % (time_elapsed,memMb))"
      ],
      "metadata": {
        "colab": {
          "base_uri": "https://localhost:8080/"
        },
        "id": "DFI2_jKMmuHT",
        "outputId": "2fc52005-6cd8-49d8-f48b-777af5e6e2b5"
      },
      "execution_count": 5,
      "outputs": [
        {
          "output_type": "stream",
          "name": "stdout",
          "text": [
            "499999500000\n",
            "0.137513 secs 0.163078 MByte\n"
          ]
        }
      ]
    }
  ]
}