{
  "cells": [
    {
      "cell_type": "markdown",
      "metadata": {
        "id": "53IWPnEWeu9y"
      },
      "source": [
        "**Explain**\n",
        "> '''It filters iterable objects for us.\n",
        "We are going to pass the filtering conditions in form of\n",
        "a function and this function is going to use to filter\n",
        "each element in the iterable object.\n",
        "\n",
        "        Syntax:\n",
        "            filter(function, iterable)\n",
        "'''\n",
        "\n",
        "'''Here, I'm creating a list of 100000 sequential items\n",
        "and then will do a factorial of even numbers.\n",
        "In the end, we will sum these factorial values.\n",
        "'''\n"
      ]
    },
    {
      "cell_type": "code",
      "execution_count": 1,
      "metadata": {
        "colab": {
          "base_uri": "https://localhost:8080/"
        },
        "id": "u3lLrsmLeneT",
        "outputId": "5cd38982-1c6a-4a45-95e7-688ebb256366"
      },
      "outputs": [
        {
          "output_type": "stream",
          "name": "stdout",
          "text": [
            "2499950000\n",
            "0.033230 secs 0.144547 MByte\n"
          ]
        }
      ],
      "source": [
        "## Using for loop\n",
        "\n",
        "import math\n",
        "import time\n",
        "import resource\n",
        "import sys\n",
        "\n",
        "time_start = time.perf_counter()\n",
        "\n",
        "sys.set_int_max_str_digits(0)\n",
        "\n",
        "def factorial(n):\n",
        "   return math.factorial(n)\n",
        "\n",
        "test_list = list(range(1, 100000))\n",
        "result = []\n",
        "for i in range(len(test_list)) :\n",
        "    if test_list[i] % 2 == 0:\n",
        "      result.append(test_list[i])\n",
        "print(sum(result))\n",
        "\n",
        "time_elapsed = (time.perf_counter() - time_start)\n",
        "memMb=resource.getrusage(resource.RUSAGE_SELF).ru_maxrss/1024.0/1024.0\n",
        "\n",
        "print (\"%f secs %f MByte\" % (time_elapsed,memMb))\n"
      ]
    },
    {
      "cell_type": "code",
      "execution_count": 2,
      "metadata": {
        "id": "KPTSjiM6m62V",
        "colab": {
          "base_uri": "https://localhost:8080/"
        },
        "outputId": "4b34bf23-814c-419e-e77d-500a06054adb"
      },
      "outputs": [
        {
          "output_type": "stream",
          "name": "stdout",
          "text": [
            "2499950000\n",
            "0.042228 secs 0.144547 MByte\n"
          ]
        }
      ],
      "source": [
        "## Using while loop\n",
        "\n",
        "import math\n",
        "import time\n",
        "import resource\n",
        "import sys\n",
        "\n",
        "time_start = time.perf_counter()\n",
        "\n",
        "sys.set_int_max_str_digits(0)\n",
        "\n",
        "def factorial(n):\n",
        "   return math.factorial(n)\n",
        "\n",
        "test_list = list(range(1, 100000))\n",
        "result = []\n",
        "i=0\n",
        "while i < len(test_list) :\n",
        "    if test_list[i] % 2 == 0:\n",
        "      result.append(test_list[i])\n",
        "    i = i + 1\n",
        "print(sum(result))\n",
        "\n",
        "time_elapsed = (time.perf_counter() - time_start)\n",
        "memMb=resource.getrusage(resource.RUSAGE_SELF).ru_maxrss/1024.0/1024.0\n",
        "\n",
        "print (\"%f secs %f MByte\" % (time_elapsed,memMb))"
      ]
    },
    {
      "cell_type": "code",
      "source": [
        "## Using Filter\n",
        "\n",
        "import math\n",
        "import time\n",
        "import resource\n",
        "import sys\n",
        "\n",
        "time_start = time.perf_counter()\n",
        "\n",
        "sys.set_int_max_str_digits(0)\n",
        "\n",
        "def factorial(n):\n",
        "   return math.factorial(n)\n",
        "\n",
        "test_list = list(range(1, 100000))\n",
        "result = filter(lambda x: x % 2 == 0, test_list)\n",
        "print(sum((result)))\n",
        "\n",
        "time_elapsed = (time.perf_counter() - time_start)\n",
        "memMb=resource.getrusage(resource.RUSAGE_SELF).ru_maxrss/1024.0/1024.0\n",
        "\n",
        "print (\"%f secs %f MByte\" % (time_elapsed,memMb))"
      ],
      "metadata": {
        "colab": {
          "base_uri": "https://localhost:8080/"
        },
        "id": "7wdXr5GvjFR0",
        "outputId": "5d8d4571-00d2-49dc-febb-df96690bc9dd"
      },
      "execution_count": 3,
      "outputs": [
        {
          "output_type": "stream",
          "name": "stdout",
          "text": [
            "2499950000\n",
            "0.019741 secs 0.144547 MByte\n"
          ]
        }
      ]
    }
  ],
  "metadata": {
    "colab": {
      "provenance": []
    },
    "kernelspec": {
      "display_name": "Python 3",
      "name": "python3"
    },
    "language_info": {
      "name": "python"
    }
  },
  "nbformat": 4,
  "nbformat_minor": 0
}